{
 "cells": [
  {
   "cell_type": "code",
   "execution_count": 1,
   "metadata": {},
   "outputs": [],
   "source": [
    "import os\n",
    "\n",
    "# Specify the path to the Markdown file\n",
    "markdown_file_path = 'Project Ideas.md'\n",
    "\n",
    "# Specify the directory where you want to create the new files\n",
    "output_directory = '04. Project Work'\n",
    "\n",
    "# Ensure the output directory exists\n",
    "if not os.path.exists(output_directory):\n",
    "    os.makedirs(output_directory)\n",
    "\n",
    "# Read the Markdown file and extract problem titles\n",
    "with open(markdown_file_path, 'r') as file:\n",
    "    lines = file.readlines()\n",
    "\n",
    "# Function to sanitize filenames\n",
    "def sanitize_filename(filename):\n",
    "    return \"\".join(c if c.isalnum() or c == ' ' else '_' for c in filename).rstrip()\n",
    "\n",
    "# Extract the titles and create files\n",
    "for line in lines:\n",
    "    if line.startswith('##') or any(line.startswith(f'{i}.') for i in range(1, 51)):\n",
    "        # Extract the title after the number and the space\n",
    "        parts = line.split('. ', 1)\n",
    "        if len(parts) == 2:\n",
    "            number = parts[0].strip()\n",
    "            title = parts[1].strip()\n",
    "            # Sanitize the title to create a valid filename\n",
    "\n",
    "            if (int(number) <= 9):\n",
    "                filename = \"0\" + sanitize_filename(f\"{number}\") + '. ' + sanitize_filename(f\"{title}\") + '.asm'\n",
    "            else:\n",
    "                filename = sanitize_filename(f\"{number}\") + '. ' + sanitize_filename(f\"{title}\") + '.asm'\n",
    "            \n",
    "            filename = filename.replace('_', '')\n",
    "\n",
    "            # Create the new file in the specified directory\n",
    "            with open(os.path.join(output_directory, filename), 'w') as new_file:\n",
    "                new_file.write(f'# {title}\\n\\n')"
   ]
  },
  {
   "cell_type": "code",
   "execution_count": null,
   "metadata": {},
   "outputs": [],
   "source": []
  }
 ],
 "metadata": {
  "kernelspec": {
   "display_name": "base",
   "language": "python",
   "name": "python3"
  },
  "language_info": {
   "codemirror_mode": {
    "name": "ipython",
    "version": 3
   },
   "file_extension": ".py",
   "mimetype": "text/x-python",
   "name": "python",
   "nbconvert_exporter": "python",
   "pygments_lexer": "ipython3",
   "version": "3.12.1"
  }
 },
 "nbformat": 4,
 "nbformat_minor": 2
}
